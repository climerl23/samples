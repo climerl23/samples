{
 "cells": [
  {
   "cell_type": "markdown",
   "id": "aef45646",
   "metadata": {},
   "source": [
    "import gffutils\n",
    "fn = gffutils.example_filename('C:/Users/clime/OneDrive/Documents/gencode.v41.annotation.gff3')\n",
    "print(open(fn).read()) \n",
    "#do for small data like 1 gene with 3 transcripts"
   ]
  },
  {
   "cell_type": "code",
   "execution_count": 33,
   "id": "b8871c61",
   "metadata": {},
   "outputs": [
    {
     "name": "stdout",
     "output_type": "stream",
     "text": [
      "        start       end       0                  1\n",
      "37   43063333  43063373  ID=CDS  ENST00000352993.7\n",
      "27   43099775  43099880  ID=CDS  ENST00000352993.7\n",
      "26   43104122  43104261  ID=CDS  ENST00000352993.7\n",
      "25   43104868  43104956  ID=CDS  ENST00000352993.7\n",
      "24   43106456  43106533  ID=CDS  ENST00000352993.7\n",
      "..        ...       ...     ...                ...\n",
      "232  43076488  43076611  ID=CDS  ENST00000700182.1\n",
      "228  43095846  43095922  ID=CDS  ENST00000700182.1\n",
      "283  43110535  43110580  ID=CDS  ENST00000700183.1\n",
      "282  43115726  43115779  ID=CDS  ENST00000700183.1\n",
      "281  43124017  43124096  ID=CDS  ENST00000700183.1\n",
      "\n",
      "[324 rows x 4 columns]\n"
     ]
    }
   ],
   "source": [
    "import numpy as np\n",
    "import pandas as pd\n",
    "import  natsort\n",
    "\n",
    "df = pd.read_fwf(\"C:/Users/clime/Downloads/BRCA1_CDS_annotations.txt\", header = None)\n",
    "\n",
    "df2 = df.loc[:,(3,4,8)] #parses out columns\n",
    "df2.columns = df2.columns.astype(str) #changes column int to column str\n",
    "df2.columns.values[0] = 'start' #changes column name from 3 to start\n",
    "df2.columns.values[1] = 'end'\n",
    "\n",
    "#print(df2)\n",
    "#print(df3)\n",
    "\n",
    "df4 = pd.concat([df2[['start','end']], df2['8'].str.split(';', expand=True)], axis=1) #splits up the 9th column\n",
    "df4.columns = df4.columns.astype(str) #changes mixed column types to all str\n",
    "                    \n",
    "#print(df4)\n",
    "\n",
    "df5 = df4.loc[:,('start','end','0')] #parses for \n",
    "\n",
    "df6 = pd.concat([df5[['start','end']], df5['0'].str.split(':', expand=True)], axis=1)\n",
    "df6.columns = df6.columns.astype(str)\n",
    "\n",
    "#print(df6)\n",
    "\n",
    "df7 = df6.sort_values('1', key=natsort.natsort_keygen())\n",
    "\n",
    "print(df7)\n",
    "\n",
    "np.savetxt(r'C:/Users/clime/Downloads/BRCA1_CDS_extract_ann', df5.values, fmt='%s')\n",
    "#np.savetxt(r'C:/Users/clime/Downloads/BRCA1_CDS_locations', df2.values, fmt='%s')\n",
    "#df3.to_csv(r'C:/Users/clime/Downloads/BRCA1_CDS_column9.txt', header=None, \n",
    "          #index=None, sep=';', mode='a')\n",
    "    \n",
    "#pd.read_fwf() fixed-width lines can help with breaking the file with a fixed width space but ; and , in columns\n",
    "#np.savetxt(r'~/filename.txt', df.values, fmt='%d') to write txt file\n",
    "#df.to_csv(r'c:\\data\\pandas.txt', header=None, index=None, sep=' ', mode='a') to write csv file"
   ]
  }
 ],
 "metadata": {
  "kernelspec": {
   "display_name": "Python 3 (ipykernel)",
   "language": "python",
   "name": "python3"
  },
  "language_info": {
   "codemirror_mode": {
    "name": "ipython",
    "version": 3
   },
   "file_extension": ".py",
   "mimetype": "text/x-python",
   "name": "python",
   "nbconvert_exporter": "python",
   "pygments_lexer": "ipython3",
   "version": "3.8.8"
  }
 },
 "nbformat": 4,
 "nbformat_minor": 5
}
